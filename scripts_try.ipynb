{
 "cells": [
  {
   "cell_type": "code",
   "execution_count": 2,
   "metadata": {},
   "outputs": [],
   "source": [
    "import os\n",
    "from cv2 import imread\n",
    "import numpy as np\n",
    "from transforms.fourier import preprocess\n",
    "import mahotas\n",
    "from transforms import daubechies, fourier, haar"
   ]
  },
  {
   "cell_type": "code",
   "execution_count": 4,
   "metadata": {},
   "outputs": [
    {
     "name": "stdout",
     "output_type": "stream",
     "text": [
      "d:\\Desktop\\CV Project\n"
     ]
    },
    {
     "ename": "AttributeError",
     "evalue": "module 'mahotas' has no attribute 'daubechies'",
     "output_type": "error",
     "traceback": [
      "\u001b[1;31m---------------------------------------------------------------------------\u001b[0m",
      "\u001b[1;31mAttributeError\u001b[0m                            Traceback (most recent call last)",
      "\u001b[1;32md:\\Desktop\\CV Project\\scripts_try.ipynb Cell 2\u001b[0m in \u001b[0;36m<cell line: 1>\u001b[1;34m()\u001b[0m\n\u001b[1;32m----> <a href='vscode-notebook-cell:/d%3A/Desktop/CV%20Project/scripts_try.ipynb#W0sZmlsZQ%3D%3D?line=0'>1</a>\u001b[0m X, Y \u001b[39m=\u001b[39m daubechies\u001b[39m.\u001b[39;49mdaubechies_transform()\n",
      "File \u001b[1;32md:\\Desktop\\CV Project\\transforms\\daubechies.py:16\u001b[0m, in \u001b[0;36mdaubechies_transform\u001b[1;34m()\u001b[0m\n\u001b[0;32m     14\u001b[0m image \u001b[39m=\u001b[39m imread(os\u001b[39m.\u001b[39mgetcwd()\u001b[39m+\u001b[39m\u001b[39m'\u001b[39m\u001b[39m/data/\u001b[39m\u001b[39m'\u001b[39m\u001b[39m+\u001b[39mi\u001b[39m+\u001b[39m\u001b[39m'\u001b[39m\u001b[39m/\u001b[39m\u001b[39m'\u001b[39m\u001b[39m+\u001b[39mj)\n\u001b[0;32m     15\u001b[0m image \u001b[39m=\u001b[39m preprocess(image)\n\u001b[1;32m---> 16\u001b[0m image \u001b[39m=\u001b[39m mahotas\u001b[39m.\u001b[39;49mdaubechies(image, \u001b[39m'\u001b[39m\u001b[39mD8\u001b[39m\u001b[39m'\u001b[39m)\n\u001b[0;32m     17\u001b[0m X\u001b[39m.\u001b[39mappend(image)\n\u001b[0;32m     18\u001b[0m Y\u001b[39m.\u001b[39mappend(i)\n",
      "\u001b[1;31mAttributeError\u001b[0m: module 'mahotas' has no attribute 'daubechies'"
     ]
    }
   ],
   "source": [
    "X, Y = daubechies.daubechies_transform()"
   ]
  },
  {
   "cell_type": "code",
   "execution_count": null,
   "metadata": {},
   "outputs": [],
   "source": []
  }
 ],
 "metadata": {
  "kernelspec": {
   "display_name": "Python 3.10.6 64-bit",
   "language": "python",
   "name": "python3"
  },
  "language_info": {
   "codemirror_mode": {
    "name": "ipython",
    "version": 3
   },
   "file_extension": ".py",
   "mimetype": "text/x-python",
   "name": "python",
   "nbconvert_exporter": "python",
   "pygments_lexer": "ipython3",
   "version": "3.10.6"
  },
  "orig_nbformat": 4,
  "vscode": {
   "interpreter": {
    "hash": "301a17a29b57d3836b7901af1621afd6d2b1f2298b9c7949191147cf2fea93e3"
   }
  }
 },
 "nbformat": 4,
 "nbformat_minor": 2
}
